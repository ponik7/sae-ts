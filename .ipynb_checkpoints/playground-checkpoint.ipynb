{
 "cells": [
  {
   "cell_type": "code",
   "execution_count": 1,
   "id": "79e312ae-85e3-4aa3-8226-53351ab783a1",
   "metadata": {},
   "outputs": [],
   "source": [
    "import os\n",
    "os.environ[\"CUDA_VISIBLE_DEVICES\"] = \"1\""
   ]
  },
  {
   "cell_type": "code",
   "execution_count": 2,
   "id": "4fe44373-c7de-4b09-9298-f2b914686e2b",
   "metadata": {},
   "outputs": [],
   "source": [
    "from transformers import AutoModelForCausalLM, BitsAndBytesConfig, AutoTokenizer\n",
    "from huggingface_hub import hf_hub_download, notebook_login\n",
    "import numpy as np\n",
    "import torch\n",
    "\n",
    "import openai\n",
    "from dotenv import load_dotenv\n",
    "from tqdm import tqdm\n",
    "from json_repair import json_repair\n",
    "import matplotlib.pyplot as plt"
   ]
  },
  {
   "cell_type": "code",
   "execution_count": 3,
   "id": "8a85993b",
   "metadata": {},
   "outputs": [
    {
     "data": {
      "text/plain": [
       "True"
      ]
     },
     "execution_count": 3,
     "metadata": {},
     "output_type": "execute_result"
    }
   ],
   "source": [
    "load_dotenv()"
   ]
  },
  {
   "cell_type": "code",
   "execution_count": 4,
   "id": "903a2e8a-d6ef-4bf0-9a8b-ad9316825a82",
   "metadata": {},
   "outputs": [
    {
     "data": {
      "application/vnd.jupyter.widget-view+json": {
       "model_id": "84108fa72211406484a441e4a8456450",
       "version_major": 2,
       "version_minor": 0
      },
      "text/plain": [
       "VBox(children=(HTML(value='<center> <img\\nsrc=https://huggingface.co/front/assets/huggingface_logo-noborder.sv…"
      ]
     },
     "metadata": {},
     "output_type": "display_data"
    }
   ],
   "source": [
    "notebook_login()"
   ]
  },
  {
   "cell_type": "code",
   "execution_count": 5,
   "id": "2cbc94fc-af98-4f84-9357-6d10c44b2486",
   "metadata": {},
   "outputs": [
    {
     "data": {
      "application/vnd.jupyter.widget-view+json": {
       "model_id": "0f0d0366debd45fc98a40c7ee652ae92",
       "version_major": 2,
       "version_minor": 0
      },
      "text/plain": [
       "Loading checkpoint shards:   0%|          | 0/2 [00:00<?, ?it/s]"
      ]
     },
     "metadata": {},
     "output_type": "display_data"
    }
   ],
   "source": [
    "torch.set_grad_enabled(False) # avoid blowing up mem\n",
    "\n",
    "model = AutoModelForCausalLM.from_pretrained(\n",
    "    \"google/gemma-2-2b-it\",\n",
    "    device_map='auto',\n",
    ")\n",
    "tokenizer =  AutoTokenizer.from_pretrained(\"google/gemma-2-2b-it\")"
   ]
  },
  {
   "cell_type": "code",
   "execution_count": 6,
   "id": "35fede1a-6b7b-4001-9e1b-cdf8d4fce03e",
   "metadata": {},
   "outputs": [
    {
     "name": "stdout",
     "output_type": "stream",
     "text": [
      "tensor([[     2,   6571,    708,    692, 235336]], device='cuda:0')\n",
      "<bos>Who are you?\n",
      "\n",
      "I am Gemma, an AI assistant created by the Gemma team. I am a large language model, which means I'm trained on a massive amount of text data. This allows me to understand and generate human-like text in response to a\n"
     ]
    }
   ],
   "source": [
    "# The input text\n",
    "prompt = \"Who are you?\"\n",
    "\n",
    "# Use the tokenizer to convert it to tokens. Note that this implicitly adds a special \"Beginning of Sequence\" or <bos> token to the start\n",
    "inputs = tokenizer.encode(prompt, return_tensors=\"pt\", add_special_tokens=True).to(\"cuda\")\n",
    "print(inputs)\n",
    "\n",
    "# Pass it in to the model and generate text\n",
    "outputs = model.generate(input_ids=inputs, max_new_tokens=50)\n",
    "print(tokenizer.decode(outputs[0]))"
   ]
  },
  {
   "cell_type": "code",
   "execution_count": 7,
   "id": "eddab262-f305-4a54-a7c3-00ac3242d945",
   "metadata": {},
   "outputs": [],
   "source": [
    "path_to_params = hf_hub_download(\n",
    "    repo_id=\"google/gemma-scope-2b-pt-res\",\n",
    "    filename=\"layer_20/width_16k/average_l0_71/params.npz\",\n",
    "    force_download=False,\n",
    ")\n",
    "params = np.load(path_to_params)\n",
    "pt_params = {k: torch.from_numpy(v).cuda() for k, v in params.items()}\n"
   ]
  },
  {
   "cell_type": "code",
   "execution_count": 8,
   "id": "3bb6e533-5dfd-44e0-9d2f-fc0198427806",
   "metadata": {},
   "outputs": [
    {
     "data": {
      "text/plain": [
       "{'W_dec': torch.Size([16384, 2304]),\n",
       " 'W_enc': torch.Size([2304, 16384]),\n",
       " 'b_dec': torch.Size([2304]),\n",
       " 'b_enc': torch.Size([16384]),\n",
       " 'threshold': torch.Size([16384])}"
      ]
     },
     "execution_count": 8,
     "metadata": {},
     "output_type": "execute_result"
    }
   ],
   "source": [
    "{k:v.shape for k, v in pt_params.items()}"
   ]
  },
  {
   "cell_type": "code",
   "execution_count": 9,
   "id": "389d9937-d5a2-40f4-a6c3-3792289a2a23",
   "metadata": {},
   "outputs": [
    {
     "data": {
      "text/plain": [
       "tensor([1.2101, 1.1695, 0.9836,  ..., 1.0630, 0.9997, 1.1070], device='cuda:0')"
      ]
     },
     "execution_count": 9,
     "metadata": {},
     "output_type": "execute_result"
    }
   ],
   "source": [
    "pt_params[\"W_enc\"].norm(dim=0)"
   ]
  },
  {
   "cell_type": "code",
   "execution_count": 10,
   "id": "7f65afc5-9533-4859-b0d5-c8573dc43235",
   "metadata": {},
   "outputs": [
    {
     "data": {
      "text/plain": [
       "<All keys matched successfully>"
      ]
     },
     "execution_count": 10,
     "metadata": {},
     "output_type": "execute_result"
    }
   ],
   "source": [
    "import torch.nn as nn\n",
    "class JumpReLUSAE(nn.Module):\n",
    "  def __init__(self, d_model, d_sae):\n",
    "    # Note that we initialise these to zeros because we're loading in pre-trained weights.\n",
    "    # If you want to train your own SAEs then we recommend using blah\n",
    "    super().__init__()\n",
    "    self.W_enc = nn.Parameter(torch.zeros(d_model, d_sae))\n",
    "    self.W_dec = nn.Parameter(torch.zeros(d_sae, d_model))\n",
    "    self.threshold = nn.Parameter(torch.zeros(d_sae))\n",
    "    self.b_enc = nn.Parameter(torch.zeros(d_sae))\n",
    "    self.b_dec = nn.Parameter(torch.zeros(d_model))\n",
    "\n",
    "  def encode(self, input_acts):\n",
    "    pre_acts = input_acts @ self.W_enc + self.b_enc\n",
    "    mask = (pre_acts > self.threshold)\n",
    "    acts = mask * torch.nn.functional.relu(pre_acts)\n",
    "    return acts\n",
    "\n",
    "  def decode(self, acts):\n",
    "    return acts @ self.W_dec + self.b_dec\n",
    "\n",
    "  def forward(self, acts):\n",
    "    acts = self.encode(acts)\n",
    "    recon = self.decode(acts)\n",
    "    return recon\n",
    "\n",
    "\n",
    "sae = JumpReLUSAE(params['W_enc'].shape[0], params['W_enc'].shape[1])\n",
    "sae.load_state_dict(pt_params)"
   ]
  },
  {
   "cell_type": "code",
   "execution_count": 11,
   "id": "ffe8be58-e9a9-492d-af26-a0486058c070",
   "metadata": {},
   "outputs": [],
   "source": [
    "def gather_residual_activations(model, target_layer, inputs):\n",
    "  target_act = None\n",
    "  def gather_target_act_hook(mod, inputs, outputs):\n",
    "    nonlocal target_act # make sure we can modify the target_act from the outer scope\n",
    "    target_act = outputs[0]\n",
    "    return outputs\n",
    "  handle = model.model.layers[target_layer].register_forward_hook(gather_target_act_hook)\n",
    "  _ = model.forward(inputs)\n",
    "  handle.remove()\n",
    "  return target_act"
   ]
  },
  {
   "cell_type": "code",
   "execution_count": 12,
   "id": "8364d200-8afc-4b25-ac8c-03dbd3aaf4a2",
   "metadata": {},
   "outputs": [],
   "source": [
    "target_act = gather_residual_activations(model, 20, inputs)"
   ]
  },
  {
   "cell_type": "code",
   "execution_count": 13,
   "id": "1844dfdf-20cb-4520-ac2b-a0b7cf664947",
   "metadata": {},
   "outputs": [
    {
     "data": {
      "text/plain": [
       "torch.Size([1, 5, 2304])"
      ]
     },
     "execution_count": 13,
     "metadata": {},
     "output_type": "execute_result"
    }
   ],
   "source": [
    "target_act.shape"
   ]
  },
  {
   "cell_type": "code",
   "execution_count": 14,
   "id": "e709ea9d-cb0a-47e5-a779-4f289fa7caf4",
   "metadata": {},
   "outputs": [
    {
     "data": {
      "text/plain": [
       "JumpReLUSAE()"
      ]
     },
     "execution_count": 14,
     "metadata": {},
     "output_type": "execute_result"
    }
   ],
   "source": [
    "sae.cuda()"
   ]
  },
  {
   "cell_type": "code",
   "execution_count": 15,
   "id": "f74730e7-37a1-4f9d-8445-1886cc5dd051",
   "metadata": {},
   "outputs": [],
   "source": [
    "sae_acts = sae.encode(target_act.to(torch.float32))\n",
    "recon = sae.decode(sae_acts)"
   ]
  },
  {
   "cell_type": "code",
   "execution_count": 16,
   "id": "7ed4ebcc-0aa8-47a8-ac7f-dcad89689c73",
   "metadata": {},
   "outputs": [
    {
     "data": {
      "text/plain": [
       "torch.Size([2304])"
      ]
     },
     "execution_count": 16,
     "metadata": {},
     "output_type": "execute_result"
    }
   ],
   "source": [
    "decoded_vector = sae.W_dec[12332]\n",
    "decoded_vector.shape"
   ]
  },
  {
   "cell_type": "code",
   "execution_count": 17,
   "id": "a4fab8ec-dcda-47db-8fab-77d8210adaba",
   "metadata": {},
   "outputs": [],
   "source": [
    "def make_injection_hook(decoded_vec, alpha=0.1):\n",
    "    def hook_fn(module, inputs, outputs):\n",
    "        h, cache = outputs\n",
    "        injection = h + alpha * decoded_vec\n",
    "        return (injection, cache)\n",
    "    return hook_fn\n",
    "\n",
    "hook = model.model.layers[20].register_forward_hook(\n",
    "    make_injection_hook(decoded_vector, alpha=122)\n",
    ")\n"
   ]
  },
  {
   "cell_type": "code",
   "execution_count": 18,
   "id": "b4b43e43-d964-4d51-a23f-2eb40909eadb",
   "metadata": {},
   "outputs": [],
   "source": [
    "# hook.remove()"
   ]
  },
  {
   "cell_type": "code",
   "execution_count": 19,
   "id": "36af4c3c-502d-4caf-805a-5436cc828727",
   "metadata": {},
   "outputs": [
    {
     "name": "stdout",
     "output_type": "stream",
     "text": [
      "<bos>Who are you?\n",
      "\n",
      "Je suis une intelligence artificielle, un modèle de langage développé par Google. \n",
      "\n",
      "Comment puis-je vous aider ? \n",
      "\n",
      "Je peux vous aider à :\n",
      "\n",
      "* **Répondre à vos questions** sur une variété de sujets.\n",
      "* **\n"
     ]
    }
   ],
   "source": [
    "outputs = model.generate(input_ids=inputs, max_new_tokens=50)\n",
    "print(tokenizer.decode(outputs[0]))\n",
    "hook.remove()"
   ]
  },
  {
   "cell_type": "code",
   "execution_count": 20,
   "id": "9f0f5d17-2b34-4169-bd46-7f8ef4b2e4a7",
   "metadata": {},
   "outputs": [],
   "source": [
    "client = openai.OpenAI(\n",
    "    api_key=os.getenv(\"OPENROUTER_API_KEY\"),\n",
    "    base_url=\"https://openrouter.ai/api/v1\"\n",
    ")"
   ]
  },
  {
   "cell_type": "code",
   "execution_count": 21,
   "id": "33f69bf4-5b42-47de-91b6-fce245731627",
   "metadata": {},
   "outputs": [],
   "source": [
    "def generate_response(messages, model):\n",
    "    response = client.chat.completions.create(\n",
    "        model=model,\n",
    "        messages=messages,\n",
    "    )\n",
    "    return response.choices[0].message.content"
   ]
  },
  {
   "cell_type": "code",
   "execution_count": 22,
   "id": "e6475d7a-850b-452e-999e-f5088f655326",
   "metadata": {},
   "outputs": [],
   "source": [
    "system_prompt = \"\"\"You score texts generated by a language model based on the following criterion:\n",
    "{criterion}.\n",
    "You provide a score from 1 to 10.\n",
    "The language model was given a prompt and generated the following text.\n",
    "Evaluate the text based on the criterion. Output format should be JSON with the following fields: \"score\" (int)\"\"\"\n",
    "\n",
    "prompt = \"Who are you?\"\n",
    "user_prompt = \"\"\"Prompt:\\n\\n{prompt}\\n\\nCompletion:\\n\\n{completion}\\n\\n\"\"\""
   ]
  },
  {
   "cell_type": "code",
   "execution_count": 23,
   "id": "defe38af",
   "metadata": {},
   "outputs": [
    {
     "data": {
      "text/plain": [
       "array([-300, -269, -237, -206, -174, -143, -111,  -79,  -48,  -16,   15,\n",
       "         47,   78,  110,  142,  173,  205,  236,  268,  300], dtype=int32)"
      ]
     },
     "execution_count": 23,
     "metadata": {},
     "output_type": "execute_result"
    }
   ],
   "source": [
    "scales = np.linspace(-300, 300, 20, dtype=np.int32)\n",
    "scales"
   ]
  },
  {
   "cell_type": "code",
   "execution_count": 24,
   "id": "f7afbafd",
   "metadata": {},
   "outputs": [],
   "source": [
    "def model_generate_with_hook(prompt, model, tokenizer, sae, feature_idx=12332, target_layer=20, alpha=122, max_new_tokens=128):\n",
    "    inputs = tokenizer.encode(prompt, return_tensors=\"pt\", add_special_tokens=True).to(\"cuda\")\n",
    "\n",
    "    decoded_vector = sae.W_dec[feature_idx]\n",
    "    hook = model.model.layers[target_layer].register_forward_hook(\n",
    "        make_injection_hook(decoded_vector, alpha=alpha)\n",
    "    )\n",
    "\n",
    "    outputs = model.generate(input_ids=inputs, max_new_tokens=max_new_tokens)\n",
    "    hook.remove()\n",
    "    return tokenizer.decode(outputs[0][len(inputs[0]):]).strip()\n",
    "\n",
    "\n",
    "def score_completion(prompt, completion, criterion):\n",
    "    messages = [\n",
    "        {\"role\": \"system\", \"content\": system_prompt.format(criterion=criterion)},\n",
    "        {\"role\": \"user\", \"content\": user_prompt.format(prompt=prompt, completion=completion)}\n",
    "    ]\n",
    "    return generate_response(messages, \"openai/gpt-4o-mini\")\n",
    "\n",
    "\n"
   ]
  },
  {
   "cell_type": "code",
   "execution_count": 38,
   "id": "e694da05",
   "metadata": {},
   "outputs": [
    {
     "name": "stderr",
     "output_type": "stream",
     "text": [
      "100%|██████████| 20/20 [01:54<00:00,  5.74s/it]\n"
     ]
    },
    {
     "data": {
      "text/plain": [
       "[1, 1, 1, 1, 1, 1, 1, 1, 1, 1, 1, 1, 5, 9, 8, 9, 9, 9, 9, 9]"
      ]
     },
     "execution_count": 38,
     "metadata": {},
     "output_type": "execute_result"
    }
   ],
   "source": [
    "scores = []\n",
    "criterion = \"French language use\"\n",
    "for alpha in tqdm(scales):\n",
    "    model_output = model_generate_with_hook(prompt, model, tokenizer, sae, alpha=alpha)\n",
    "    score = score_completion(prompt, model_output, criterion)\n",
    "    scores.append(json_repair.loads(score)['score'])\n",
    "\n",
    "scores\n"
   ]
  },
  {
   "cell_type": "code",
   "execution_count": 43,
   "id": "0ba833cd",
   "metadata": {},
   "outputs": [
    {
     "data": {
      "image/png": "[encoded data removed]",
      "text/plain": [
       "<Figure size 640x480 with 1 Axes>"
      ]
     },
     "metadata": {},
     "output_type": "display_data"
    }
   ],
   "source": [
    "# plot scores vs alpha and save image (method 1)\n",
    "plt.plot(scales, scores)\n",
    "plt.xlabel('Alpha')\n",
    "plt.ylabel('Behavioral score')\n",
    "plt.title('Behavioral score vs Alpha')\n",
    "plt.savefig('assets/behavioral_score_vs_alpha_method_1.png')\n",
    "plt.show()\n"
   ]
  },
  {
   "cell_type": "code",
   "execution_count": 44,
   "id": "8d1fc140",
   "metadata": {},
   "outputs": [
    {
     "name": "stderr",
     "output_type": "stream",
     "text": [
      "100%|██████████| 20/20 [01:52<00:00,  5.65s/it]\n"
     ]
    },
    {
     "data": {
      "text/plain": [
       "[8, 8, 8, 8, 8, 8, 9, 8, 8, 8, 8, 8, 7, 9, 8, 9, 9, 9, 9, 9]"
      ]
     },
     "execution_count": 44,
     "metadata": {},
     "output_type": "execute_result"
    }
   ],
   "source": [
    "scores = []\n",
    "criterion = \"Fluency\"\n",
    "for alpha in tqdm(scales):\n",
    "    model_output = model_generate_with_hook(prompt, model, tokenizer, sae, alpha=alpha)\n",
    "    score = score_completion(prompt, model_output, criterion)\n",
    "    scores.append(json_repair.loads(score)['score'])\n",
    "\n",
    "scores\n"
   ]
  },
  {
   "cell_type": "code",
   "execution_count": 45,
   "id": "f0808489",
   "metadata": {},
   "outputs": [
    {
     "data": {
      "image/png": "[encoded data removed]",
      "text/plain": [
       "<Figure size 640x480 with 1 Axes>"
      ]
     },
     "metadata": {},
     "output_type": "display_data"
    }
   ],
   "source": [
    "# plot fluency scores vs alpha and save image (method 1)\n",
    "plt.plot(scales, scores)\n",
    "plt.xlabel('Alpha')\n",
    "plt.ylabel('Behavioral score')\n",
    "plt.title('Behavioral score vs Alpha')\n",
    "plt.savefig('assets/fluency_score_vs_alpha_method_1.png')\n",
    "plt.show()"
   ]
  },
  {
   "cell_type": "code",
   "execution_count": 29,
   "id": "16dbe3c3",
   "metadata": {},
   "outputs": [],
   "source": [
    "def make_injection_hook(decoded_vec, alpha=0.1):\n",
    "    def hook_fn(module, inputs, outputs):\n",
    "        h, cache = outputs\n",
    "\n",
    "        h_norm = torch.norm(h, dim=-1, keepdim=True)\n",
    "        nom_scaled = h + alpha * decoded_vec\n",
    "        nom_scaled_norm = torch.norm(nom_scaled, dim=-1, keepdim=True)\n",
    "        injection = nom_scaled / nom_scaled_norm * h_norm\n",
    "        return (injection, cache)\n",
    "    return hook_fn"
   ]
  },
  {
   "cell_type": "code",
   "execution_count": 30,
   "id": "fa2ba65a",
   "metadata": {},
   "outputs": [
    {
     "name": "stderr",
     "output_type": "stream",
     "text": [
      "100%|██████████| 20/20 [01:27<00:00,  4.37s/it]\n"
     ]
    }
   ],
   "source": [
    "model_outputs = []\n",
    "for alpha in tqdm(scales):\n",
    "    model_output = model_generate_with_hook(prompt, model, tokenizer, sae, alpha=alpha)\n",
    "    model_outputs.append(model_output)\n"
   ]
  },
  {
   "cell_type": "code",
   "execution_count": 31,
   "id": "1ba34020",
   "metadata": {},
   "outputs": [
    {
     "name": "stderr",
     "output_type": "stream",
     "text": [
      "100%|██████████| 20/20 [00:17<00:00,  1.11it/s]\n"
     ]
    },
    {
     "data": {
      "text/plain": [
       "[1, 1, 1, 1, 1, 1, 1, 1, 1, 1, 1, 2, 6, 9, 8, 9, 10, 9, 9, 9]"
      ]
     },
     "execution_count": 31,
     "metadata": {},
     "output_type": "execute_result"
    }
   ],
   "source": [
    "scores = []\n",
    "criterion = \"French language use\"\n",
    "for model_output in tqdm(model_outputs):\n",
    "    score = score_completion(prompt, model_output, criterion)\n",
    "    scores.append(json_repair.loads(score)['score'])\n",
    "\n",
    "scores"
   ]
  },
  {
   "cell_type": "code",
   "execution_count": 32,
   "id": "984a9aa2",
   "metadata": {},
   "outputs": [
    {
     "data": {
      "image/png": "[encoded data removed]",
      "text/plain": [
       "<Figure size 640x480 with 1 Axes>"
      ]
     },
     "metadata": {},
     "output_type": "display_data"
    }
   ],
   "source": [
    "# plot scores vs alpha and save image (method 2)\n",
    "plt.plot(scales, scores)\n",
    "plt.xlabel('Alpha')\n",
    "plt.ylabel('Behavioral score')\n",
    "plt.title('Behavioral score vs Alpha')\n",
    "plt.savefig('assets/behavioral_score_vs_alpha_method_2.png')\n",
    "plt.show()\n"
   ]
  },
  {
   "cell_type": "code",
   "execution_count": 33,
   "id": "ec32e112",
   "metadata": {},
   "outputs": [
    {
     "name": "stderr",
     "output_type": "stream",
     "text": [
      "100%|██████████| 20/20 [00:16<00:00,  1.24it/s]\n"
     ]
    },
    {
     "data": {
      "text/plain": [
       "[8, 8, 9, 8, 9, 8, 8, 8, 9, 8, 8, 8, 8, 9, 8, 9, 9, 9, 9, 9]"
      ]
     },
     "execution_count": 33,
     "metadata": {},
     "output_type": "execute_result"
    }
   ],
   "source": [
    "scores = []\n",
    "criterion = \"Fluency\"\n",
    "for model_output in tqdm(model_outputs):\n",
    "    score = score_completion(prompt, model_output, criterion)\n",
    "    scores.append(json_repair.loads(score)['score'])\n",
    "\n",
    "scores"
   ]
  },
  {
   "cell_type": "code",
   "execution_count": 34,
   "id": "d94eb586",
   "metadata": {},
   "outputs": [
    {
     "data": {
      "image/png": "[encoded data removed]",
      "text/plain": [
       "<Figure size 640x480 with 1 Axes>"
      ]
     },
     "metadata": {},
     "output_type": "display_data"
    }
   ],
   "source": [
    "# plot fluency scores vs alpha and save image (method 2)\n",
    "plt.plot(scales, scores)\n",
    "plt.xlabel('Alpha')\n",
    "plt.ylabel('Behavioral score')\n",
    "plt.title('Behavioral score vs Alpha')\n",
    "plt.savefig('assets/fluency_score_vs_alpha_method_2.png')\n",
    "plt.show()"
   ]
  },
  {
   "cell_type": "code",
   "execution_count": null,
   "id": "2d1b17ae",
   "metadata": {},
   "outputs": [],
   "source": []
  }
 ],
 "metadata": {
  "kernelspec": {
   "display_name": "Python 3 (ipykernel)",
   "language": "python",
   "name": "python3"
  },
  "language_info": {
   "codemirror_mode": {
    "name": "ipython",
    "version": 3
   },
   "file_extension": ".py",
   "mimetype": "text/x-python",
   "name": "python",
   "nbconvert_exporter": "python",
   "pygments_lexer": "ipython3",
   "version": "3.10.12"
  }
 },
 "nbformat": 4,
 "nbformat_minor": 5
}
